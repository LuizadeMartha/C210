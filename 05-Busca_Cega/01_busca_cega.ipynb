{
 "cells": [
  {
   "cell_type": "markdown",
   "metadata": {},
   "source": [
    "# Busca Cega\n",
    "\n",
    "Abordagem de busca que não considera nenhuma informação sobre qual sucessor é mais promissor para atingir uma meta (objetivo)\n",
    "###### Passos\n",
    "- Formular objetivo\n",
    "- Formular a busca\n",
    "- Executar"
   ]
  },
  {
   "cell_type": "markdown",
   "metadata": {},
   "source": [
    "### Modelando o problema\n",
    "- Sliding Puzzle\n",
    "<img src=\"images/sliding_puzzle.gif\" width=\"250\" align=\"center\">"
   ]
  },
  {
   "cell_type": "code",
   "execution_count": 1,
   "metadata": {},
   "outputs": [],
   "source": [
    "import numpy as np\n",
    "\n",
    "class SlidingPuzzle():\n",
    "    def __init__(self, num_blocos):\n",
    "        '''\n",
    "        Construtor\n",
    "        Args:\n",
    "            - num_blocos: numero de blocos por linha e coluna, valor inteiro (Ex: 3 significa 3 linhas e 3 colunas)\n",
    "        '''\n",
    "        self.num_blocos = num_blocos\n",
    "\n",
    "    def _encontra_posicao(self, estado, elemento):\n",
    "        '''\n",
    "        Varre todo o tabuleiro (estado) e verifica em qual posição 'elemento' está\n",
    "        Args:\n",
    "            - estado: matriz contendo o estado do tabuleiro\n",
    "            - elemento: elemento a ser buscado na matriz\n",
    "        Return:\n",
    "            - Retorna a linha e coluna onde o elemento se encontra\n",
    "        '''\n",
    "        for i in range(self.num_blocos):\n",
    "            for j in range(self.num_blocos):\n",
    "                if estado[i, j] == elemento:\n",
    "                    return i, j\n",
    "        return None, None\n",
    "\n",
    "    def verifica_estados(self, atual, objetivo):\n",
    "        '''\n",
    "        Verifica se dois estados são iguais\n",
    "        Args:\n",
    "            - atual: matriz que descreve o estado atual\n",
    "            - objetivo: matriz que descreve o estado objetivo\n",
    "        Return:\n",
    "            - booleano dizendo se o estado atual é ou não o objetivo\n",
    "        '''\n",
    "        flag = True\n",
    "        for i in range(self.num_blocos):\n",
    "            for j in range(self.num_blocos):\n",
    "                if atual[i, j] != objetivo[i, j]:\n",
    "                    flag = False\n",
    "                    break\n",
    "\n",
    "        return flag\n",
    "\n",
    "    def expande_estados(self, atual):\n",
    "        '''\n",
    "        Dado o estado atual, realiza a expansão de estados\n",
    "        Args:\n",
    "            - atual: matriz que descreve o estado atual\n",
    "        Return:\n",
    "            - lista com os novos estados após a expansão\n",
    "        '''\n",
    "        \n",
    "        novos_estados = []\n",
    "        linha, coluna = self._encontra_posicao(atual, 0)\n",
    "\n",
    "        # Cima\n",
    "        if linha > 0:\n",
    "            novo_estado = np.copy(atual)\n",
    "            nova_linha = linha - 1\n",
    "\n",
    "            bloco_alvo = novo_estado[nova_linha, coluna]\n",
    "            novo_estado[nova_linha, coluna] = 0\n",
    "            novo_estado[linha, coluna] = bloco_alvo\n",
    "\n",
    "            novos_estados.append(novo_estado)\n",
    "\n",
    "        # Baixo\n",
    "        if linha < self.num_blocos - 1:\n",
    "            novo_estado = np.copy(atual)\n",
    "            nova_linha = linha + 1\n",
    "\n",
    "            bloco_alvo = novo_estado[nova_linha, coluna]\n",
    "            novo_estado[nova_linha, coluna] = 0\n",
    "            novo_estado[linha, coluna] = bloco_alvo\n",
    "\n",
    "            novos_estados.append(novo_estado)\n",
    "\n",
    "\n",
    "        # Esquerda\n",
    "        if coluna > 0:\n",
    "            novo_estado = np.copy(atual)\n",
    "            nova_coluna = coluna - 1\n",
    "\n",
    "            bloco_alvo = novo_estado[linha, nova_coluna]\n",
    "            novo_estado[linha, nova_coluna] = 0\n",
    "            novo_estado[linha, coluna] = bloco_alvo\n",
    "\n",
    "            novos_estados.append(novo_estado)\n",
    "\n",
    "        # Direita\n",
    "        if coluna < self.num_blocos - 1:\n",
    "            novo_estado = np.copy(atual)\n",
    "            nova_coluna = coluna + 1\n",
    "\n",
    "            bloco_alvo = novo_estado[linha, nova_coluna]\n",
    "            novo_estado[linha, nova_coluna] = 0\n",
    "            novo_estado[linha, coluna] = bloco_alvo\n",
    "\n",
    "            novos_estados.append(novo_estado)\n",
    "\n",
    "        return novos_estados\n"
   ]
  },
  {
   "cell_type": "markdown",
   "metadata": {},
   "source": [
    "### Formulando Busca"
   ]
  },
  {
   "cell_type": "markdown",
   "metadata": {},
   "source": [
    "#### Busca em largura (BrFS– Breadth-first search)\n",
    "\n",
    "Realiza a busca em nível. Imagine uma árvore de estados, nela a busca é realizada sequencialmente em cada nó do mesmo nível\n",
    "\n",
    "<img src=\"images/bfs.gif\" width=\"250\" align=\"center\">"
   ]
  },
  {
   "cell_type": "code",
   "execution_count": 2,
   "metadata": {},
   "outputs": [],
   "source": [
    "from queue import Queue\n",
    "\n",
    "class BreadthFirstSearch():\n",
    "    def __init__(self, problema):\n",
    "        '''\n",
    "        Construtor\n",
    "        Args:\n",
    "            - problema: objeto do problema a ser solucionado\n",
    "        '''\n",
    "        self.problema = problema\n",
    "        \n",
    "    def _verifica_visitado(self, estado, estados_visitados):\n",
    "        '''\n",
    "        Verifica se 'estado' está na lista de estados visitados\n",
    "        Args:\n",
    "            - estado: estado qualquer do tabuleiro\n",
    "            - estados_visitados: lista com todos os estados já visitados\n",
    "        Return:\n",
    "            - booleano dizendo se o estado foi visitado ou não\n",
    "        '''\n",
    "        for i in estados_visitados:\n",
    "            if self.problema.verifica_estados(i, estado):\n",
    "                return True\n",
    "        return False\n",
    "    \n",
    "    def busca(self, inicio, fim):\n",
    "        '''\n",
    "        Realiza a busca BFS, armazenando os estados em uma FILA\n",
    "        Args:\n",
    "            - inicio: estado inicial do problema\n",
    "            - fim: estado objetivo\n",
    "        Return:\n",
    "            - booleano se a solução foi encontrada, lista dos estados visitados, quantidade de estados visitados\n",
    "        '''\n",
    "        fila = Queue()\n",
    "        fila.put(inicio)\n",
    "        \n",
    "        solucao_encontrada = False\n",
    "        estados_visitados = []\n",
    "        cont_estados = 0\n",
    "        \n",
    "        while not fila.empty():\n",
    "            atual = fila.get()\n",
    "            estados_visitados.append(atual)\n",
    "            \n",
    "            if self.problema.verifica_estados(atual, fim):\n",
    "                solucao_encontrada = True\n",
    "                break\n",
    "                \n",
    "            else:\n",
    "                cont_estados += 1\n",
    "                print(f\"Visitando #{cont_estados}\")\n",
    "                novos_estados = self.problema.expande_estados(atual)\n",
    "                for i in novos_estados:\n",
    "                    if not self._verifica_visitado(i, estados_visitados):\n",
    "                        fila.put(i)\n",
    "                        \n",
    "        return solucao_encontrada, estados_visitados, cont_estados"
   ]
  },
  {
   "cell_type": "markdown",
   "metadata": {},
   "source": [
    "#### Busca em profundidade (DFS – Depth-first search)\n",
    "\n",
    "Realiza a busca por ramo. Imagine uma árvore de estados, nela a busca é realizada sequencialmente em cada ramo, e só após completá-lo, busca no ramo vizinho.\n",
    "\n",
    "<img src=\"images/dfs.gif\" width=\"250\" align=\"center\">"
   ]
  },
  {
   "cell_type": "code",
   "execution_count": 3,
   "metadata": {},
   "outputs": [],
   "source": [
    "from queue import LifoQueue\n",
    "\n",
    "class DepthFirstSearch():\n",
    "    def __init__(self, problema):\n",
    "        '''\n",
    "        Construtor\n",
    "        Args:\n",
    "            - problema: objeto do problema a ser solucionado\n",
    "        '''\n",
    "        self.problema = problema\n",
    "        \n",
    "    def _verifica_visitado(self, estado, estados_visitados):\n",
    "        '''\n",
    "        Verifica se 'estado' está na lista de estados visitados\n",
    "        Args:\n",
    "            - estado: estado qualquer do tabuleiro\n",
    "            - estados_visitados: lista com todos os estados já visitados\n",
    "        Return:\n",
    "            - booleano dizendo se o estado foi visitado ou não\n",
    "        '''\n",
    "        for i in estados_visitados:\n",
    "            if self.problema.verifica_estados(i, estado):\n",
    "                return True\n",
    "        return False\n",
    "    \n",
    "    def busca(self, inicio, fim):\n",
    "        '''\n",
    "        Realiza a busca DFS, armazenando os estados em uma PILHA\n",
    "        Args:\n",
    "            - inicio: estado inicial do problema\n",
    "            - fim: estado objetivo\n",
    "        Return:\n",
    "            - booleano se a solução foi encontrada, lista dos estados visitados, quantidade de estados visitados\n",
    "        '''\n",
    "        piha = LifoQueue()\n",
    "        piha.put(inicio)\n",
    "        \n",
    "        solucao_encontrada = False\n",
    "        estados_visitados = []\n",
    "        cont_estados = 0\n",
    "        \n",
    "        while not piha.empty():\n",
    "            atual = piha.get()\n",
    "            estados_visitados.append(atual)\n",
    "            \n",
    "            if self.problema.verifica_estados(atual, fim):\n",
    "                solucao_encontrada = True\n",
    "                break\n",
    "                \n",
    "            else:\n",
    "                cont_estados += 1\n",
    "                print(f\"Visitando #{cont_estados}\")\n",
    "                novos_estados = self.problema.expande_estados(atual)\n",
    "                for i in novos_estados:\n",
    "                    if not self._verifica_visitado(i, estados_visitados):\n",
    "                        piha.put(i)\n",
    "\n",
    "        return solucao_encontrada, estados_visitados, cont_estados"
   ]
  },
  {
   "cell_type": "markdown",
   "metadata": {},
   "source": [
    "### Executando"
   ]
  },
  {
   "cell_type": "code",
   "execution_count": 5,
   "metadata": {},
   "outputs": [
    {
     "ename": "NameError",
     "evalue": "name 'SlidingPuzzle' is not defined",
     "output_type": "error",
     "traceback": [
      "\u001b[1;31m---------------------------------------------------------------------------\u001b[0m",
      "\u001b[1;31mNameError\u001b[0m                                 Traceback (most recent call last)",
      "Cell \u001b[1;32mIn[5], line 5\u001b[0m\n\u001b[0;32m      2\u001b[0m \u001b[38;5;28;01mfrom\u001b[39;00m \u001b[38;5;21;01mtime\u001b[39;00m \u001b[38;5;28;01mimport\u001b[39;00m time\n\u001b[0;32m      4\u001b[0m \u001b[38;5;66;03m# Criando objeto do problema\u001b[39;00m\n\u001b[1;32m----> 5\u001b[0m problema \u001b[38;5;241m=\u001b[39m SlidingPuzzle(\u001b[38;5;241m3\u001b[39m)\n\u001b[0;32m      7\u001b[0m \u001b[38;5;66;03m# Criando Matriz inicial e matriz alvo\u001b[39;00m\n\u001b[0;32m      9\u001b[0m target \u001b[38;5;241m=\u001b[39m np\u001b[38;5;241m.\u001b[39mmatrix([[\u001b[38;5;241m1\u001b[39m,\u001b[38;5;241m2\u001b[39m,\u001b[38;5;241m3\u001b[39m],[\u001b[38;5;241m8\u001b[39m,\u001b[38;5;241m0\u001b[39m,\u001b[38;5;241m4\u001b[39m],[\u001b[38;5;241m7\u001b[39m,\u001b[38;5;241m6\u001b[39m,\u001b[38;5;241m5\u001b[39m]])\n",
      "\u001b[1;31mNameError\u001b[0m: name 'SlidingPuzzle' is not defined"
     ]
    }
   ],
   "source": [
    "# Pacote auxiliar para o cálculo do tempo\n",
    "from time import time\n",
    "\n",
    "# Criando objeto do problema\n",
    "problema = SlidingPuzzle(3)\n",
    "\n",
    "# Criando Matriz inicial e matriz alvo\n",
    "\n",
    "target = np.matrix([[1,2,3],[8,0,4],[7,6,5]])\n",
    "\n",
    "# Mostrando informações iniciais\n",
    "print(f\"Initial state: \\n{start}\")\n",
    "print(\"*\"*15)\n",
    "print(f\"Target state: \\n{target}\")\n",
    "print(\"*\"*15)"
   ]
  },
  {
   "cell_type": "code",
   "execution_count": 6,
   "metadata": {},
   "outputs": [
    {
     "ename": "NameError",
     "evalue": "name 'BreadthFirstSearch' is not defined",
     "output_type": "error",
     "traceback": [
      "\u001b[1;31m---------------------------------------------------------------------------\u001b[0m",
      "\u001b[1;31mNameError\u001b[0m                                 Traceback (most recent call last)",
      "Cell \u001b[1;32mIn[6], line 2\u001b[0m\n\u001b[0;32m      1\u001b[0m \u001b[38;5;66;03m# Execução do BFS\u001b[39;00m\n\u001b[1;32m----> 2\u001b[0m bfs \u001b[38;5;241m=\u001b[39m BreadthFirstSearch(problema)\n\u001b[0;32m      4\u001b[0m ini \u001b[38;5;241m=\u001b[39m time() \u001b[38;5;66;03m# Tempo inicial\u001b[39;00m\n\u001b[0;32m      6\u001b[0m bfs_solucao, bfs_estados_visitados, bfs_num_visitados \u001b[38;5;241m=\u001b[39m bfs\u001b[38;5;241m.\u001b[39mbusca(start, target) \u001b[38;5;66;03m# chamando busca\u001b[39;00m\n",
      "\u001b[1;31mNameError\u001b[0m: name 'BreadthFirstSearch' is not defined"
     ]
    }
   ],
   "source": [
    "# Execução do BFS\n",
    "bfs = BreadthFirstSearch(problema)\n",
    "\n",
    "ini = time() # Tempo inicial\n",
    "\n",
    "bfs_solucao, bfs_estados_visitados, bfs_num_visitados = bfs.busca(start, target) # chamando busca\n",
    "\n",
    "bfs_time = time()-ini # Tempo total\n",
    "\n",
    "if bfs_solucao:\n",
    "    print(f\"Solution found!!!\")\n",
    "else:\n",
    "    print(\"Solution not found!!!\")"
   ]
  },
  {
   "cell_type": "code",
   "execution_count": 7,
   "metadata": {},
   "outputs": [
    {
     "ename": "NameError",
     "evalue": "name 'problema' is not defined",
     "output_type": "error",
     "traceback": [
      "\u001b[1;31m---------------------------------------------------------------------------\u001b[0m",
      "\u001b[1;31mNameError\u001b[0m                                 Traceback (most recent call last)",
      "Cell \u001b[1;32mIn[7], line 2\u001b[0m\n\u001b[0;32m      1\u001b[0m \u001b[38;5;66;03m# Execução do DFS\u001b[39;00m\n\u001b[1;32m----> 2\u001b[0m dfs \u001b[38;5;241m=\u001b[39m DepthFirstSearch(problema)\n\u001b[0;32m      4\u001b[0m ini \u001b[38;5;241m=\u001b[39m time() \u001b[38;5;66;03m# Tempo inicial\u001b[39;00m\n\u001b[0;32m      6\u001b[0m dfs_solucao, dfs_estados_visitados, dfs_num_visitados \u001b[38;5;241m=\u001b[39m dfs\u001b[38;5;241m.\u001b[39mbusca(start, target) \u001b[38;5;66;03m# chamando busca\u001b[39;00m\n",
      "\u001b[1;31mNameError\u001b[0m: name 'problema' is not defined"
     ]
    }
   ],
   "source": [
    "# Execução do DFS\n",
    "dfs = DepthFirstSearch(problema)\n",
    "\n",
    "ini = time() # Tempo inicial\n",
    "\n",
    "dfs_solucao, dfs_estados_visitados, dfs_num_visitados = dfs.busca(start, target) # chamando busca\n",
    "\n",
    "dfs_time = time()-ini # Tempo total\n",
    "\n",
    "if dfs_solucao:\n",
    "    print(f\"Solution found!!!\")\n",
    "else:\n",
    "    print(\"Solution not found!!!\")"
   ]
  },
  {
   "cell_type": "code",
   "execution_count": 8,
   "metadata": {},
   "outputs": [
    {
     "name": "stdout",
     "output_type": "stream",
     "text": [
      "==== BFS ====\n"
     ]
    },
    {
     "ename": "NameError",
     "evalue": "name 'bfs_solucao' is not defined",
     "output_type": "error",
     "traceback": [
      "\u001b[1;31m---------------------------------------------------------------------------\u001b[0m",
      "\u001b[1;31mNameError\u001b[0m                                 Traceback (most recent call last)",
      "Cell \u001b[1;32mIn[8], line 3\u001b[0m\n\u001b[0;32m      1\u001b[0m \u001b[38;5;66;03m# Apresentando resultados\u001b[39;00m\n\u001b[0;32m      2\u001b[0m \u001b[38;5;28mprint\u001b[39m(\u001b[38;5;124m\"\u001b[39m\u001b[38;5;124m==== BFS ====\u001b[39m\u001b[38;5;124m\"\u001b[39m)\n\u001b[1;32m----> 3\u001b[0m \u001b[38;5;28mprint\u001b[39m(\u001b[38;5;124mf\u001b[39m\u001b[38;5;124m\"\u001b[39m\u001b[38;5;124mSolução encontrada? \u001b[39m\u001b[38;5;132;01m{\u001b[39;00mbfs_solucao\u001b[38;5;132;01m}\u001b[39;00m\u001b[38;5;124m\"\u001b[39m)\n\u001b[0;32m      4\u001b[0m \u001b[38;5;28mprint\u001b[39m(\u001b[38;5;124mf\u001b[39m\u001b[38;5;124m\"\u001b[39m\u001b[38;5;124mNúmero de estados visitados: \u001b[39m\u001b[38;5;132;01m{\u001b[39;00mbfs_num_visitados\u001b[38;5;132;01m}\u001b[39;00m\u001b[38;5;124m\"\u001b[39m)\n\u001b[0;32m      5\u001b[0m \u001b[38;5;28mprint\u001b[39m(\u001b[38;5;124mf\u001b[39m\u001b[38;5;124m\"\u001b[39m\u001b[38;5;124mTempo de execução: \u001b[39m\u001b[38;5;132;01m{\u001b[39;00mbfs_time\u001b[38;5;132;01m}\u001b[39;00m\u001b[38;5;124m\"\u001b[39m)\n",
      "\u001b[1;31mNameError\u001b[0m: name 'bfs_solucao' is not defined"
     ]
    }
   ],
   "source": [
    "# Apresentando resultados\n",
    "print(\"==== BFS ====\")\n",
    "print(f\"Solução encontrada? {bfs_solucao}\")\n",
    "print(f\"Número de estados visitados: {bfs_num_visitados}\")\n",
    "print(f\"Tempo de execução: {bfs_time}\")\n",
    "\n",
    "print(\"==== DFS ====\")\n",
    "print(f\"Solução encontrada? {dfs_solucao}\")\n",
    "print(f\"Número de estados visitados: {dfs_num_visitados}\")\n",
    "print(f\"Tempo de execução: {dfs_time}\")"
   ]
  },
  {
   "cell_type": "markdown",
   "metadata": {},
   "source": [
    "### Exercício\n",
    "\n",
    "Alterar a matriz inicial de posições para a apresentada na imagem abaixo e avaliar a performance das duas abordagens de busca cega\n",
    "\n",
    "<img src=\"images/exercicio.png\" width=\"250\" align=\"center\">"
   ]
  },
  {
   "cell_type": "code",
   "execution_count": 9,
   "metadata": {},
   "outputs": [
    {
     "ename": "NameError",
     "evalue": "name 'SlidingPuzzle' is not defined",
     "output_type": "error",
     "traceback": [
      "\u001b[1;31m---------------------------------------------------------------------------\u001b[0m",
      "\u001b[1;31mNameError\u001b[0m                                 Traceback (most recent call last)",
      "Cell \u001b[1;32mIn[9], line 5\u001b[0m\n\u001b[0;32m      2\u001b[0m \u001b[38;5;28;01mfrom\u001b[39;00m \u001b[38;5;21;01mtime\u001b[39;00m \u001b[38;5;28;01mimport\u001b[39;00m time\n\u001b[0;32m      4\u001b[0m \u001b[38;5;66;03m# Criando objeto do problema\u001b[39;00m\n\u001b[1;32m----> 5\u001b[0m problema \u001b[38;5;241m=\u001b[39m SlidingPuzzle(\u001b[38;5;241m3\u001b[39m)\n\u001b[0;32m      7\u001b[0m \u001b[38;5;66;03m# Criando Matriz inicial e matriz alvo\u001b[39;00m\n\u001b[0;32m      8\u001b[0m start \u001b[38;5;241m=\u001b[39m np\u001b[38;5;241m.\u001b[39mmatrix([[\u001b[38;5;241m2\u001b[39m,\u001b[38;5;241m8\u001b[39m,\u001b[38;5;241m3\u001b[39m],[\u001b[38;5;241m1\u001b[39m,\u001b[38;5;241m6\u001b[39m,\u001b[38;5;241m4\u001b[39m],[\u001b[38;5;241m7\u001b[39m,\u001b[38;5;241m0\u001b[39m,\u001b[38;5;241m5\u001b[39m]])\n",
      "\u001b[1;31mNameError\u001b[0m: name 'SlidingPuzzle' is not defined"
     ]
    }
   ],
   "source": [
    "# Pacote auxiliar para o cálculo do tempo\n",
    "from time import time\n",
    "\n",
    "# Criando objeto do problema\n",
    "problema = SlidingPuzzle(3)\n",
    "\n",
    "# Criando Matriz inicial e matriz alvo\n",
    "start = np.matrix([[2,8,3],[1,6,4],[7,0,5]])\n",
    "target = np.matrix([[1,2,3],[8,0,4],[7,6,5]])\n",
    "\n",
    "# Mostrando informações iniciais\n",
    "print(f\"Initial state: \\n{start}\")\n",
    "print(\"*\"*15)\n",
    "print(f\"Target state: \\n{target}\")\n",
    "print(\"*\"*15)"
   ]
  },
  {
   "cell_type": "code",
   "execution_count": null,
   "metadata": {},
   "outputs": [],
   "source": []
  }
 ],
 "metadata": {
  "kernelspec": {
   "display_name": "Python 3 (ipykernel)",
   "language": "python",
   "name": "python3"
  },
  "language_info": {
   "codemirror_mode": {
    "name": "ipython",
    "version": 3
   },
   "file_extension": ".py",
   "mimetype": "text/x-python",
   "name": "python",
   "nbconvert_exporter": "python",
   "pygments_lexer": "ipython3",
   "version": "3.11.5"
  }
 },
 "nbformat": 4,
 "nbformat_minor": 4
}
